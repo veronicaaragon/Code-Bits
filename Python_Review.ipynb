{
  "nbformat": 4,
  "nbformat_minor": 0,
  "metadata": {
    "colab": {
      "provenance": [],
      "include_colab_link": true
    },
    "kernelspec": {
      "name": "python3",
      "display_name": "Python 3"
    },
    "language_info": {
      "name": "python"
    }
  },
  "cells": [
    {
      "cell_type": "markdown",
      "metadata": {
        "id": "view-in-github",
        "colab_type": "text"
      },
      "source": [
        "<a href=\"https://colab.research.google.com/github/veronicaaragon/Code-Bits/blob/main/Python_Review.ipynb\" target=\"_parent\"><img src=\"https://colab.research.google.com/assets/colab-badge.svg\" alt=\"Open In Colab\"/></a>"
      ]
    },
    {
      "cell_type": "markdown",
      "source": [
        "#Welcome to your Python review\n",
        "\n"
      ],
      "metadata": {
        "id": "tbv5gHbFvo0h"
      }
    },
    {
      "cell_type": "markdown",
      "source": [
        "##Variable types\n"
      ],
      "metadata": {
        "id": "qSGirqiDLE9O"
      }
    },
    {
      "cell_type": "code",
      "source": [
        "'''\n",
        "JAVA\n",
        "int a = 0;\n",
        "double b = 0.00;\n",
        "float c = 0.00;\n",
        "string d = \"hello world\";\n",
        "char e = 't';\n",
        "\n",
        "No casting, no worries\n",
        "\n",
        "int x = 3.5; ERROR\n",
        "int x = 1 + 1.5; ERROR\n",
        "\n",
        "\n",
        "IN PYTHON? does not matter\n",
        "'''\n",
        "x = 10\n",
        "print(x)\n",
        "x = 0.5\n",
        "print(x)\n",
        "x = \"Walmart\"\n",
        "print(x)"
      ],
      "metadata": {
        "colab": {
          "base_uri": "https://localhost:8080/"
        },
        "id": "4WzCjpmo0H6z",
        "outputId": "c37e7758-6e54-43fe-fdaa-b92c57a1fc53"
      },
      "execution_count": null,
      "outputs": [
        {
          "output_type": "stream",
          "name": "stdout",
          "text": [
            "10\n",
            "0.5\n",
            "Walmart\n"
          ]
        }
      ]
    },
    {
      "cell_type": "markdown",
      "source": [
        "2. Method Definitions\n",
        "*   Return type\n",
        "*   Parameter's variable type\n",
        "*   Curly Brackets\n",
        "*   Semi-colons\n",
        "\n",
        "\n",
        "\n"
      ],
      "metadata": {
        "id": "un2mJe1G0vJR"
      }
    },
    {
      "cell_type": "code",
      "source": [
        "'''\n",
        "public int method(int x, int y){\n",
        "  result = x + y;\n",
        "  return result;\n",
        "}\n",
        "'''\n",
        "def method(x,y):\n",
        "  return x + y\n",
        "\n",
        "print(method(1,2)) #JAVA SUPPORTS\n",
        "print(method(1.5,1))\n",
        "print(method('hi ','students')) #JAVA SUPPORTS\n",
        "print(method('hi ', str(2024))) #JAVA DOES NOT SUPPORTS\n",
        "\n",
        "def wtfunny(x,y):\n",
        "  return x * y\n",
        "\n",
        "print(wtfunny('hello', 6))\n",
        "print(wtfunny('hello its me ', 3))\n"
      ],
      "metadata": {
        "colab": {
          "base_uri": "https://localhost:8080/"
        },
        "id": "sNsVLfWmxr6P",
        "outputId": "1dab7752-a836-4c24-fcfc-2b7f0ff1f847"
      },
      "execution_count": null,
      "outputs": [
        {
          "output_type": "stream",
          "name": "stdout",
          "text": [
            "3\n",
            "2.5\n",
            "hi students\n",
            "hi 2024\n",
            "hellohellohellohellohellohello\n",
            "hello its me hello its me hello its me \n"
          ]
        }
      ]
    },
    {
      "cell_type": "markdown",
      "source": [
        "##Scanning"
      ],
      "metadata": {
        "id": "H27fcGhIFrOh"
      }
    },
    {
      "cell_type": "code",
      "source": [
        "'''\n",
        "Scanner s = new Scanner(System.in);\n",
        "double x = s.nextInt();\n",
        "\n",
        "if entered value is 1.0 WRONGG!!!\n",
        "'''\n",
        "print(\"Enter x value: \")\n",
        "x = input()\n",
        "print(\"x: \", x)\n",
        "\n",
        "x = input(\"Enter x value: \")\n",
        "print(\"x: \", x)\n"
      ],
      "metadata": {
        "colab": {
          "base_uri": "https://localhost:8080/"
        },
        "id": "SbF4pTSkERIq",
        "outputId": "7fb75d69-d18c-456c-b1a4-8a21ff55a0d2"
      },
      "execution_count": null,
      "outputs": [
        {
          "output_type": "stream",
          "name": "stdout",
          "text": [
            "Enter x value: \n",
            "hi\n",
            "x:  hi\n",
            "Enter x value: 5\n",
            "x:  5\n"
          ]
        }
      ]
    },
    {
      "cell_type": "markdown",
      "source": [
        "##Lists!!!!!!"
      ],
      "metadata": {
        "id": "yq-gmhEpO18s"
      }
    },
    {
      "cell_type": "code",
      "source": [
        "#list >>>> arrays (in most cases that you are problably going to see in this course)\n",
        "\n",
        "arr = [] #this is an empty list\n",
        "arr.append(\"you\")\n",
        "arr.append(\"will\")\n",
        "arr.append(\"pass\")\n",
        "print(arr)\n",
        "print(arr[0])"
      ],
      "metadata": {
        "colab": {
          "base_uri": "https://localhost:8080/"
        },
        "id": "0Tjd45Z-LN8R",
        "outputId": "b871549b-20d1-4732-afed-b6b8134cb328"
      },
      "execution_count": null,
      "outputs": [
        {
          "output_type": "stream",
          "name": "stdout",
          "text": [
            "['you', 'will', 'pass']\n",
            "you\n"
          ]
        }
      ]
    },
    {
      "cell_type": "code",
      "source": [
        "#Insert in specific index\n",
        "print(arr)\n",
        "arr.insert(2, \"not\")\n",
        "print(arr)"
      ],
      "metadata": {
        "colab": {
          "base_uri": "https://localhost:8080/"
        },
        "id": "nW7CPtehO1FQ",
        "outputId": "cf86d293-7851-4377-e37d-175fdf2c3b2a"
      },
      "execution_count": null,
      "outputs": [
        {
          "output_type": "stream",
          "name": "stdout",
          "text": [
            "['you', 'will', 'pass']\n",
            "['you', 'will', 'not', 'pass']\n"
          ]
        }
      ]
    },
    {
      "cell_type": "code",
      "source": [
        "print(arr)\n",
        "del(arr[3]) #pops element in given index\n",
        "print(arr)"
      ],
      "metadata": {
        "colab": {
          "base_uri": "https://localhost:8080/"
        },
        "id": "EUGdVUdPPw3Q",
        "outputId": "4956edfc-c61d-4026-9c7b-a888b0793585"
      },
      "execution_count": null,
      "outputs": [
        {
          "output_type": "stream",
          "name": "stdout",
          "text": [
            "['will', 'pass', 'not', 'you']\n",
            "['will', 'pass', 'not']\n"
          ]
        }
      ]
    },
    {
      "cell_type": "code",
      "source": [
        "print(arr)\n",
        "arr.pop() #pops given index\n",
        "print(arr)"
      ],
      "metadata": {
        "colab": {
          "base_uri": "https://localhost:8080/"
        },
        "id": "Hr8YXO-iQCFM",
        "outputId": "47762768-6580-4839-f971-b0e893e44f72"
      },
      "execution_count": null,
      "outputs": [
        {
          "output_type": "stream",
          "name": "stdout",
          "text": [
            "['will', 'pass', 'not']\n",
            "['will', 'pass']\n"
          ]
        }
      ]
    },
    {
      "cell_type": "code",
      "source": [
        "print(arr)\n",
        "arr.remove(0)\n",
        "print(arr)"
      ],
      "metadata": {
        "colab": {
          "base_uri": "https://localhost:8080/",
          "height": 227
        },
        "id": "9-NTWadhQNis",
        "outputId": "95e9ac85-19ac-4593-84fc-0f05810ba373"
      },
      "execution_count": null,
      "outputs": [
        {
          "output_type": "stream",
          "name": "stdout",
          "text": [
            "['will', 'pass']\n"
          ]
        },
        {
          "output_type": "error",
          "ename": "ValueError",
          "evalue": "list.remove(x): x not in list",
          "traceback": [
            "\u001b[0;31m---------------------------------------------------------------------------\u001b[0m",
            "\u001b[0;31mValueError\u001b[0m                                Traceback (most recent call last)",
            "\u001b[0;32m<ipython-input-18-4bbbec2c21bd>\u001b[0m in \u001b[0;36m<cell line: 2>\u001b[0;34m()\u001b[0m\n\u001b[1;32m      1\u001b[0m \u001b[0mprint\u001b[0m\u001b[0;34m(\u001b[0m\u001b[0marr\u001b[0m\u001b[0;34m)\u001b[0m\u001b[0;34m\u001b[0m\u001b[0;34m\u001b[0m\u001b[0m\n\u001b[0;32m----> 2\u001b[0;31m \u001b[0marr\u001b[0m\u001b[0;34m.\u001b[0m\u001b[0mremove\u001b[0m\u001b[0;34m(\u001b[0m\u001b[0;36m0\u001b[0m\u001b[0;34m)\u001b[0m\u001b[0;34m\u001b[0m\u001b[0;34m\u001b[0m\u001b[0m\n\u001b[0m\u001b[1;32m      3\u001b[0m \u001b[0mprint\u001b[0m\u001b[0;34m(\u001b[0m\u001b[0marr\u001b[0m\u001b[0;34m)\u001b[0m\u001b[0;34m\u001b[0m\u001b[0;34m\u001b[0m\u001b[0m\n",
            "\u001b[0;31mValueError\u001b[0m: list.remove(x): x not in list"
          ]
        }
      ]
    },
    {
      "cell_type": "code",
      "source": [
        "print(arr)\n",
        "arr.remove(\"pass\") #pops given element\n",
        "print(arr)\n"
      ],
      "metadata": {
        "colab": {
          "base_uri": "https://localhost:8080/"
        },
        "id": "NJTlz2VqQT0W",
        "outputId": "f8d4f1c9-16cd-4e9f-d2a2-bae74d2353b4"
      },
      "execution_count": null,
      "outputs": [
        {
          "output_type": "stream",
          "name": "stdout",
          "text": [
            "['will', 'pass']\n",
            "['will']\n"
          ]
        }
      ]
    },
    {
      "cell_type": "code",
      "source": [
        "arr = [0,1,2,3,4,5,6,7,8,9]\n",
        "del(arr[1:9])\n",
        "print(arr)"
      ],
      "metadata": {
        "colab": {
          "base_uri": "https://localhost:8080/"
        },
        "id": "JqgHfFnMQWC4",
        "outputId": "fda07531-35ee-4bdf-8509-e51c8313cb2c"
      },
      "execution_count": null,
      "outputs": [
        {
          "output_type": "stream",
          "name": "stdout",
          "text": [
            "[0, 9]\n"
          ]
        }
      ]
    },
    {
      "cell_type": "code",
      "source": [
        "arr = [0,1,2,3,4,5,6,7,8,9]\n",
        "print(arr[1:10:3])\n",
        "\n",
        "arr = [0,1,2,3,4,5,6,7,8,9]\n",
        "del(arr[1:10:3])\n",
        "print(arr)"
      ],
      "metadata": {
        "colab": {
          "base_uri": "https://localhost:8080/"
        },
        "id": "GaJZX4I0SHC2",
        "outputId": "4eb10d6c-35dc-4b52-d6c1-4e8f799fbfc2"
      },
      "execution_count": null,
      "outputs": [
        {
          "output_type": "stream",
          "name": "stdout",
          "text": [
            "[1, 4, 7]\n",
            "[0, 2, 3, 5, 6, 8, 9]\n"
          ]
        }
      ]
    },
    {
      "cell_type": "code",
      "source": [
        "l1 = [0,1,2,3]\n",
        "l2 = [4,5,6,7]\n",
        "l3 = l1+l2\n",
        "print(len(l3))\n",
        "print(l3)\n",
        "\n",
        "l3 = []\n",
        "l3.append(l1)\n",
        "l3.append(l2)\n",
        "l3.append([8,9])\n",
        "print(len(l3))\n",
        "print(l3)\n",
        "\n",
        "print(l3[2][0])\n",
        "print(l3[0][2])\n",
        "print(l3[1][3])\n",
        "print(l3[1][:3])\n",
        "print(l3[:-2][:-2])\n",
        "print(l3[-2:][:])"
      ],
      "metadata": {
        "colab": {
          "base_uri": "https://localhost:8080/"
        },
        "id": "9cm4i-qaSfBm",
        "outputId": "5cd30c8a-6298-40c9-c181-33b1d1fdd99a"
      },
      "execution_count": null,
      "outputs": [
        {
          "output_type": "stream",
          "name": "stdout",
          "text": [
            "8\n",
            "[0, 1, 2, 3, 4, 5, 6, 7]\n",
            "3\n",
            "[[0, 1, 2, 3], [4, 5, 6, 7], [8, 9]]\n",
            "8\n",
            "2\n",
            "7\n",
            "[4, 5, 6]\n",
            "[]\n",
            "[[4, 5, 6, 7], [8, 9]]\n"
          ]
        }
      ]
    },
    {
      "cell_type": "markdown",
      "source": [
        "## Substring <--> Slicing\n",
        "###Slicing a string in also possible in java but not with such a sugar syntax as python"
      ],
      "metadata": {
        "id": "VXwsh_-DGmlS"
      }
    },
    {
      "cell_type": "code",
      "source": [
        "'''\n",
        "JAVA\n",
        "String word = \"classroom\"\n",
        "System.out.println(\"Substring: \" + word.substring(2)) ---> 'a', like array indexing just 1 char\n",
        "System.out.println(\"Substring: \" + word.substring(4,8)) ---> 'sroo'\n",
        "'''\n",
        "\n",
        "word = \"classroom\"\n",
        "print(word[2])\n",
        "print(word[4:8])\n",
        "\n",
        "print(word[:3]) #from beginning to index 2 (3 is not inclusive, so while index < 3)\n",
        "print(word[5:]) #from index 5 INCLUSIVE to end of the string\n",
        "\n",
        "\n",
        "print(word[-5:]) #last 5 chars\n",
        "x = \"helloworld\"\n",
        "print(x[:-5]) #all string but not last 5 chars\n",
        "print(x[:-5])"
      ],
      "metadata": {
        "colab": {
          "base_uri": "https://localhost:8080/"
        },
        "id": "AP2qOtfwFNP4",
        "outputId": "c35f4d64-a0d2-4c78-9663-9ecc91096bae"
      },
      "execution_count": null,
      "outputs": [
        {
          "output_type": "stream",
          "name": "stdout",
          "text": [
            "a\n",
            "sroo\n",
            "cla\n",
            "room\n",
            "sroom\n",
            "hello\n",
            "hello\n"
          ]
        }
      ]
    },
    {
      "cell_type": "markdown",
      "source": [
        "##Check if an element or substring is in an array or list"
      ],
      "metadata": {
        "id": "_SFv_Fw2JHNs"
      }
    },
    {
      "cell_type": "code",
      "source": [
        "'''\n",
        "JAVA\n",
        "String word = \"classroom\"\n",
        "word.contains(\"class\") ---> True\n",
        "\n",
        "int x = 5;\n",
        "for(int i = 0; i < arr.length(); i++){\n",
        "  if(arr[i] == 5){\n",
        "    return True\n",
        "  }\n",
        "}\n",
        "'''\n",
        "word = \"classroom\"\n",
        "arr = ['F', 'your grade', 59, 'failed']\n",
        "\n",
        "if \"ss\" in word:\n",
        "  print(\"Of course gentleman\")\n",
        "\n",
        "if 'failed' in arr:\n",
        "  print(\"yes\")\n",
        "\n",
        "if 59 in arr:\n",
        "  print(\"True\")\n",
        "\n"
      ],
      "metadata": {
        "colab": {
          "base_uri": "https://localhost:8080/"
        },
        "id": "bOVw1358Hh0S",
        "outputId": "3928f497-37b4-4cef-912d-edad018a534e"
      },
      "execution_count": null,
      "outputs": [
        {
          "output_type": "stream",
          "name": "stdout",
          "text": [
            "Of course gentleman\n",
            "yes\n",
            "True\n"
          ]
        }
      ]
    },
    {
      "cell_type": "code",
      "source": [],
      "metadata": {
        "id": "I5GURSjYKy8J"
      },
      "execution_count": null,
      "outputs": []
    },
    {
      "cell_type": "markdown",
      "source": [
        "##Loops"
      ],
      "metadata": {
        "id": "0BQmKf5FLJla"
      }
    },
    {
      "cell_type": "code",
      "source": [
        "\n",
        "'''\n",
        "JAVA\n",
        "\n",
        "for(int i = 0; i < arr.length(); i++){\n",
        "  System.out.println(\"index: \" + i);\n",
        "  System.out.println(\"element: \" + arr[i]);\n",
        "}\n",
        "index: 0\n",
        "element: 10\n",
        "index: 1\n",
        "element:11\n",
        "index: 2\n",
        "element: 12\n",
        "index:  3\n",
        "element:13\n",
        "index: 4\n",
        "element:14\n",
        "'''\n",
        "arr = ['h','e','l','o']\n",
        "print(\"Indexes: \", end = \"  \")\n",
        "for i in range(5):\n",
        "  print(i, end = \",  \")\n",
        "\n",
        "print(\"\\nElements:\", end = \" \")\n",
        "for i in arr:\n",
        "  print(i, end=\", \")\n",
        "\n",
        "print(\"\\n\\nBoth together in same loop:\")\n",
        "for index, element in enumerate(arr):\n",
        "  print(\"index: \", index)\n",
        "  print(\"element: \", element)\n",
        "  print()"
      ],
      "metadata": {
        "colab": {
          "base_uri": "https://localhost:8080/"
        },
        "id": "YIW7vEbhLKyq",
        "outputId": "bb1e00f1-78b8-482d-de1f-856421c2cb63"
      },
      "execution_count": null,
      "outputs": [
        {
          "output_type": "stream",
          "name": "stdout",
          "text": [
            "Indexes:   0,  1,  2,  3,  4,  \n",
            "Elements: h, e, l, o, \n",
            "\n",
            "Both together in same loop:\n",
            "index:  0\n",
            "element:  h\n",
            "\n",
            "index:  1\n",
            "element:  e\n",
            "\n",
            "index:  2\n",
            "element:  l\n",
            "\n",
            "index:  3\n",
            "element:  o\n",
            "\n"
          ]
        }
      ]
    }
  ]
}